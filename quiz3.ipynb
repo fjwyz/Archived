{
 "cells": [
  {
   "cell_type": "code",
   "id": "initial_id",
   "metadata": {
    "collapsed": true,
    "ExecuteTime": {
     "end_time": "2024-04-22T06:57:05.301015Z",
     "start_time": "2024-04-22T06:57:05.265421Z"
    }
   },
   "source": [
    "def distance_to_wall(world):\n",
    "    world_flatten = sum(world,[])\n",
    "    distance = 100000\n",
    "    walls = []\n",
    "    robot = []\n",
    "    if 'W' not in world_flatten or 'X' not in world_flatten:\n",
    "        return None\n",
    "    else:\n",
    "        for i in range(len(world)):\n",
    "            for j in range(len(world[0])):\n",
    "                if world[i][j] == 'W':\n",
    "                    walls.append([i,j])\n",
    "                if world[i][j] == 'X':\n",
    "                    robot = [i,j]\n",
    "    for wall in walls:\n",
    "        distance = min(distance, abs(wall[0] - robot[0]) + abs(wall[1] - robot[1]))\n",
    "    return distance\n",
    "world1 = [['D', 'W'], ['X', 'E']]\n",
    "world2 = [['W', 'E'], ['X', 'E']]\n",
    "world3 = [['D', 'D'], ['D', 'D'], ['W', 'W'], ['D', 'E'], ['W', 'E'], ['E', 'D'], ['E', 'X']]\n",
    "world4 = []\n",
    "print(distance_to_wall(world1))\n",
    "print(distance_to_wall(world2))\n",
    "print(distance_to_wall(world3))\n",
    "print(distance_to_wall(world4))"
   ],
   "outputs": [
    {
     "name": "stdout",
     "output_type": "stream",
     "text": [
      "2\n",
      "1\n",
      "3\n",
      "None\n"
     ]
    }
   ],
   "execution_count": 1
  },
  {
   "metadata": {
    "ExecuteTime": {
     "end_time": "2024-04-22T07:33:14.808666Z",
     "start_time": "2024-04-22T07:33:14.796126Z"
    }
   },
   "cell_type": "code",
   "source": [
    "DIR_LEFT = \"l\"\n",
    "DIR_RIGHT = \"r\"\n",
    "DIR_UP = \"u\"\n",
    "DIR_DOWN =\"d\"\n",
    "\n",
    "def make_move(world, direction):\n",
    "    robot = [0, 0]\n",
    "    robot_new = [0, 0]\n",
    "    for i in range(len(world)):\n",
    "        for j in range(len(world[0])):\n",
    "            if world[i][j] == 'X':\n",
    "                robot = [i,j]\n",
    "    if direction == DIR_UP:\n",
    "        robot_new = [robot[0] - 1, robot[1]]\n",
    "    elif direction == DIR_DOWN:\n",
    "        robot_new = [robot[0] + 1, robot[1]]\n",
    "    elif direction == DIR_LEFT:\n",
    "        robot_new = [robot[0], robot[1] - 1]\n",
    "    elif direction == DIR_RIGHT:\n",
    "        robot_new = [robot[0], robot[1] + 1]\n",
    "    i, j = robot_new\n",
    "    m, n = robot\n",
    "    if 0 <= robot_new[0] <= len(world)-1 and 0 <= robot_new[1] <= len(world1[0]) - 1 and world[i][j] != 'W':\n",
    "        world[m][n] = 'E'\n",
    "        world[i][j] = 'X'\n",
    "    return world\n",
    "print(make_move([['E', 'W'], ['E', 'X']], 'l'))\n",
    "print(make_move([['E', 'W'], ['E', 'X']], 'r'))\n",
    "print(make_move([['E', 'W'], ['E', 'X']], 'u'))"
   ],
   "id": "34851e41cbfcf8b8",
   "outputs": [
    {
     "name": "stdout",
     "output_type": "stream",
     "text": [
      "[['E', 'W'], ['X', 'E']]\n",
      "[['E', 'W'], ['E', 'X']]\n",
      "[['E', 'W'], ['E', 'X']]\n"
     ]
    }
   ],
   "execution_count": 11
  },
  {
   "metadata": {
    "ExecuteTime": {
     "end_time": "2024-04-23T02:34:08.958664Z",
     "start_time": "2024-04-23T02:34:08.942339Z"
    }
   },
   "cell_type": "code",
   "source": [
    "def path_to_next(world):\n",
    "    order_map = {'l': 0, 'r': 1, 'u': 2, 'd': 3}\n",
    "    dirties = []\n",
    "    paths = []\n",
    "    robot = []\n",
    "    for i in range(len(world)):\n",
    "        for j in range(len(world[0])):\n",
    "            if world[i][j] == 'D':\n",
    "                dirties.append([i, j])\n",
    "            if world[i][j] == 'X':\n",
    "                robot = [i, j]\n",
    "    for dirty in dirties:\n",
    "        path = []\n",
    "        if dirty[0] == robot[0]:\n",
    "            if dirty[1] > robot[1]:\n",
    "                for _ in range(dirty[1] - robot[1]):\n",
    "                    path.append(DIR_RIGHT)\n",
    "            else:\n",
    "                for _ in range(robot[1] - dirty[1]):\n",
    "                    path.append(DIR_LEFT)\n",
    "        if dirty[1] == robot[1]:\n",
    "            if dirty[0] > robot[0]:\n",
    "                for _ in range(dirty[0] - robot[0]):\n",
    "                    path.append(DIR_DOWN)\n",
    "            else:\n",
    "                for _ in range(robot[0] - dirty[0]):\n",
    "                    path.append(DIR_UP)\n",
    "        if path:\n",
    "            paths.append(path)\n",
    "    return sorted(sorted(paths, key=lambda x:len(x)), key=lambda x: order_map[x[0]])[0]\n",
    "# print(path_to_next([['E', 'D'], ['E', 'X']]))\n",
    "# print(path_to_next([['D', 'D'], ['E', 'E'], ['E', 'X']]))\n",
    "# print(path_to_next([['D', 'E'], ['E', 'X']]))\n",
    "print(path_to_next([['E', 'D', 'E'], ['D', 'X', 'D'], ['E', 'D', 'E']]))"
   ],
   "id": "10640f2d1a810599",
   "outputs": [
    {
     "name": "stdout",
     "output_type": "stream",
     "text": [
      "['l']\n"
     ]
    }
   ],
   "execution_count": 97
  },
  {
   "metadata": {
    "ExecuteTime": {
     "end_time": "2024-04-23T02:07:11.997691Z",
     "start_time": "2024-04-23T02:07:11.931004Z"
    }
   },
   "cell_type": "code",
   "source": [
    "def clean_path(world):\n",
    "    robot_origin = []\n",
    "    p = []\n",
    "    ttt = []\n",
    "    for i in range(len(world)):\n",
    "        for j in range(len(world[0])):\n",
    "            if world[i][j] == 'X':\n",
    "                robot_origin = [i, j]\n",
    "    x = robot_origin\n",
    "    while 'D' in sum(world, []):\n",
    "        print(world)\n",
    "        paths = path_to_next(world)\n",
    "        print(paths)\n",
    "        print(x)\n",
    "        path = paths\n",
    "        if path:\n",
    "            if path[0] == 'u':\n",
    "                world[x[0] - len(paths)][x[1]] = 'X'\n",
    "                world[x[0]][x[1]] = 'E'\n",
    "                x = [x[0] - len(paths), x[1]]\n",
    "                p.append(['u'] * len(paths))\n",
    "                continue\n",
    "            elif path[0] == 'd':\n",
    "                world[x[0] + len(paths)][x[1]] = 'X'\n",
    "                world[x[0]][x[1]] = 'E'\n",
    "                x = [x[0] + len(paths), x[1]]\n",
    "                p.append('d' * len(paths))\n",
    "                continue\n",
    "            elif path[0] == 'l':\n",
    "                world[x[0]][x[1] - len(paths)] = 'X'\n",
    "                world[x[0]][x[1]] = 'E'\n",
    "                x = [x[0], x[1] - len(paths)]\n",
    "                p.append('l' * len(paths))\n",
    "                continue\n",
    "            elif path[0] == 'r':\n",
    "                world[x[0]][x[1] + len(paths)] = 'X'\n",
    "                world[x[0]][x[1]] = 'E'\n",
    "                x = [x[0] + len(paths), x[1]]\n",
    "                p.append('r' * len(paths))\n",
    "                continue\n",
    "        else:\n",
    "            if p:\n",
    "                if p[-1] == 'u':\n",
    "                    world[x[0] + 1][x[1]] = 'X'\n",
    "                    world[x[0]][x[1]] = 'E'\n",
    "                    x = [x[0] + 1, x[1]]\n",
    "                    p.append('d')\n",
    "                elif p[-1] == 'd':\n",
    "                    world[x[0] - 1][x[1]] = 'X'\n",
    "                    world[x[0]][x[1]] = 'E'\n",
    "                    x = [x[0] - 1, x[1]]\n",
    "                    p.append('u')\n",
    "                elif p[-1] == 'l':\n",
    "                    world[x[0]][x[1] - 1] = 'X'\n",
    "                    world[x[0]][x[1]] = 'E'\n",
    "                    x = [x[0, x[1] -1]]\n",
    "                    p.append('r')\n",
    "                elif p[-1] == 'r':\n",
    "                    world[x[0]][x[1] + 1] = 'X'\n",
    "                    world[x[0]][x[1]] = 'E'\n",
    "                    x = [x[0], x[1] + 1]\n",
    "                    p.append('l')\n",
    "            else:\n",
    "                return None\n",
    "    flatten_p = [item for sublist in p for item in (sublist if isinstance(sublist, list) else [sublist])]\n",
    "    ttt = flatten_p\n",
    "    for i in flatten_p[::-1]:\n",
    "        if i == 'u':\n",
    "            ttt.append('d')\n",
    "        elif i == 'd':\n",
    "            ttt.append('u')\n",
    "        elif i == 'l':\n",
    "            ttt.append('r')\n",
    "        elif i == 'r':\n",
    "            ttt.append('l')\n",
    "                \n",
    "    return ttt\n",
    "# print(clean_path([['E', 'D'], ['E', 'E'], ['E', 'X']]))\n",
    "# print(clean_path([['D', 'D'], ['E', 'E'], ['E', 'X']]))\n",
    "print(clean_path([['E', 'D', 'E'], ['X', 'D', 'D'], ['E', 'E', 'E']]))\n",
    "# print(clean_path([['E', 'D', 'E'], ['X', 'D', 'E'], ['E', 'D', 'E']]))\n",
    "# print(clean_path([['E', 'D', 'D'], ['D', 'E', 'E'], ['D', 'E', 'X']]))"
   ],
   "id": "8f67cd24f23bc2d3",
   "outputs": [
    {
     "name": "stdout",
     "output_type": "stream",
     "text": [
      "[['E', 'D', 'E'], ['X', 'D', 'D'], ['E', 'E', 'E']]\n",
      "['r']\n",
      "[1, 0]\n",
      "[['E', 'D', 'E'], ['E', 'X', 'D'], ['E', 'E', 'E']]\n",
      "['u']\n",
      "[2, 0]\n",
      "[['E', 'D', 'E'], ['X', 'X', 'D'], ['E', 'E', 'E']]\n",
      "['u']\n",
      "[1, 0]\n",
      "[['X', 'D', 'E'], ['E', 'X', 'D'], ['E', 'E', 'E']]\n",
      "['u']\n",
      "[0, 0]\n",
      "[['E', 'D', 'E'], ['E', 'X', 'D'], ['X', 'E', 'E']]\n"
     ]
    },
    {
     "ename": "IndexError",
     "evalue": "list index out of range",
     "output_type": "error",
     "traceback": [
      "\u001B[1;31m---------------------------------------------------------------------------\u001B[0m",
      "\u001B[1;31mIndexError\u001B[0m                                Traceback (most recent call last)",
      "Cell \u001B[1;32mIn[90], line 80\u001B[0m\n\u001B[0;32m     77\u001B[0m     \u001B[38;5;28;01mreturn\u001B[39;00m ttt\n\u001B[0;32m     78\u001B[0m \u001B[38;5;66;03m# print(clean_path([['E', 'D'], ['E', 'E'], ['E', 'X']]))\u001B[39;00m\n\u001B[0;32m     79\u001B[0m \u001B[38;5;66;03m# print(clean_path([['D', 'D'], ['E', 'E'], ['E', 'X']]))\u001B[39;00m\n\u001B[1;32m---> 80\u001B[0m \u001B[38;5;28mprint\u001B[39m(\u001B[43mclean_path\u001B[49m\u001B[43m(\u001B[49m\u001B[43m[\u001B[49m\u001B[43m[\u001B[49m\u001B[38;5;124;43m'\u001B[39;49m\u001B[38;5;124;43mE\u001B[39;49m\u001B[38;5;124;43m'\u001B[39;49m\u001B[43m,\u001B[49m\u001B[43m \u001B[49m\u001B[38;5;124;43m'\u001B[39;49m\u001B[38;5;124;43mD\u001B[39;49m\u001B[38;5;124;43m'\u001B[39;49m\u001B[43m,\u001B[49m\u001B[43m \u001B[49m\u001B[38;5;124;43m'\u001B[39;49m\u001B[38;5;124;43mE\u001B[39;49m\u001B[38;5;124;43m'\u001B[39;49m\u001B[43m]\u001B[49m\u001B[43m,\u001B[49m\u001B[43m \u001B[49m\u001B[43m[\u001B[49m\u001B[38;5;124;43m'\u001B[39;49m\u001B[38;5;124;43mX\u001B[39;49m\u001B[38;5;124;43m'\u001B[39;49m\u001B[43m,\u001B[49m\u001B[43m \u001B[49m\u001B[38;5;124;43m'\u001B[39;49m\u001B[38;5;124;43mD\u001B[39;49m\u001B[38;5;124;43m'\u001B[39;49m\u001B[43m,\u001B[49m\u001B[43m \u001B[49m\u001B[38;5;124;43m'\u001B[39;49m\u001B[38;5;124;43mD\u001B[39;49m\u001B[38;5;124;43m'\u001B[39;49m\u001B[43m]\u001B[49m\u001B[43m,\u001B[49m\u001B[43m \u001B[49m\u001B[43m[\u001B[49m\u001B[38;5;124;43m'\u001B[39;49m\u001B[38;5;124;43mE\u001B[39;49m\u001B[38;5;124;43m'\u001B[39;49m\u001B[43m,\u001B[49m\u001B[43m \u001B[49m\u001B[38;5;124;43m'\u001B[39;49m\u001B[38;5;124;43mE\u001B[39;49m\u001B[38;5;124;43m'\u001B[39;49m\u001B[43m,\u001B[49m\u001B[43m \u001B[49m\u001B[38;5;124;43m'\u001B[39;49m\u001B[38;5;124;43mE\u001B[39;49m\u001B[38;5;124;43m'\u001B[39;49m\u001B[43m]\u001B[49m\u001B[43m]\u001B[49m\u001B[43m)\u001B[49m)\n\u001B[0;32m     81\u001B[0m \u001B[38;5;66;03m# print(clean_path([['E', 'D', 'E'], ['X', 'D', 'E'], ['E', 'D', 'E']]))\u001B[39;00m\n\u001B[0;32m     82\u001B[0m \u001B[38;5;66;03m# print(clean_path([['E', 'D', 'D'], ['D', 'E', 'E'], ['D', 'E', 'X']]))\u001B[39;00m\n",
      "Cell \u001B[1;32mIn[90], line 12\u001B[0m, in \u001B[0;36mclean_path\u001B[1;34m(world)\u001B[0m\n\u001B[0;32m     10\u001B[0m \u001B[38;5;28;01mwhile\u001B[39;00m \u001B[38;5;124m'\u001B[39m\u001B[38;5;124mD\u001B[39m\u001B[38;5;124m'\u001B[39m \u001B[38;5;129;01min\u001B[39;00m \u001B[38;5;28msum\u001B[39m(world, []):\n\u001B[0;32m     11\u001B[0m     \u001B[38;5;28mprint\u001B[39m(world)\n\u001B[1;32m---> 12\u001B[0m     paths \u001B[38;5;241m=\u001B[39m \u001B[43mpath_to_next\u001B[49m\u001B[43m(\u001B[49m\u001B[43mworld\u001B[49m\u001B[43m)\u001B[49m\n\u001B[0;32m     13\u001B[0m     \u001B[38;5;28mprint\u001B[39m(paths)\n\u001B[0;32m     14\u001B[0m     \u001B[38;5;28mprint\u001B[39m(x)\n",
      "Cell \u001B[1;32mIn[89], line 29\u001B[0m, in \u001B[0;36mpath_to_next\u001B[1;34m(world)\u001B[0m\n\u001B[0;32m     27\u001B[0m     \u001B[38;5;28;01mif\u001B[39;00m path:\n\u001B[0;32m     28\u001B[0m         paths\u001B[38;5;241m.\u001B[39mappend(path)\n\u001B[1;32m---> 29\u001B[0m \u001B[38;5;28;01mreturn\u001B[39;00m \u001B[38;5;28;43msorted\u001B[39;49m\u001B[43m(\u001B[49m\u001B[43mpaths\u001B[49m\u001B[43m,\u001B[49m\u001B[43m \u001B[49m\u001B[43mkey\u001B[49m\u001B[38;5;241;43m=\u001B[39;49m\u001B[38;5;28;43;01mlambda\u001B[39;49;00m\u001B[43m \u001B[49m\u001B[43mx\u001B[49m\u001B[43m:\u001B[49m\u001B[38;5;28;43mlen\u001B[39;49m\u001B[43m(\u001B[49m\u001B[43mx\u001B[49m\u001B[43m)\u001B[49m\u001B[43m)\u001B[49m\u001B[43m[\u001B[49m\u001B[38;5;241;43m0\u001B[39;49m\u001B[43m]\u001B[49m\n",
      "\u001B[1;31mIndexError\u001B[0m: list index out of range"
     ]
    }
   ],
   "execution_count": 90
  },
  {
   "metadata": {
    "ExecuteTime": {
     "end_time": "2024-04-23T02:31:56.761432Z",
     "start_time": "2024-04-23T02:31:56.756421Z"
    }
   },
   "cell_type": "code",
   "source": "",
   "id": "48f780762bff9b0e",
   "outputs": [
    {
     "data": {
      "text/plain": [
       "{'l': 0, 'r': 1, 'u': 2, 'd': 3}"
      ]
     },
     "execution_count": 95,
     "metadata": {},
     "output_type": "execute_result"
    }
   ],
   "execution_count": 95
  },
  {
   "metadata": {},
   "cell_type": "code",
   "outputs": [],
   "execution_count": null,
   "source": "",
   "id": "b620b16b3b39171c"
  }
 ],
 "metadata": {
  "kernelspec": {
   "display_name": "test",
   "language": "python",
   "name": "test"
  },
  "language_info": {
   "codemirror_mode": {
    "name": "ipython",
    "version": 2
   },
   "file_extension": ".py",
   "mimetype": "text/x-python",
   "name": "python",
   "nbconvert_exporter": "python",
   "pygments_lexer": "ipython2",
   "version": "2.7.6"
  }
 },
 "nbformat": 4,
 "nbformat_minor": 5
}
