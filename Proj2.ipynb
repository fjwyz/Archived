{
 "cells": [
  {
   "cell_type": "code",
   "id": "initial_id",
   "metadata": {
    "collapsed": true,
    "ExecuteTime": {
     "end_time": "2024-05-05T09:06:02.598024Z",
     "start_time": "2024-05-05T09:06:02.586457Z"
    }
   },
   "source": [
    "# Decoding Attributes\n",
    "hairs = {\n",
    "    0:'wavy',\n",
    "    1:'curly',\n",
    "    2:'beanie',\n",
    "    3:'cap'\n",
    "}\n",
    "colors = {\n",
    "    0:'red',\n",
    "    1:'blue',\n",
    "    2:'yellow',\n",
    "    3:'green'\n",
    "}\n",
    "accessories = {\n",
    "    0:'sneakers',\n",
    "    1:'bowtie',\n",
    "    2:'sunglasses',\n",
    "    3:'scarf'\n",
    "}\n",
    "socials = {\n",
    "    0:'tiktok',\n",
    "    1:'instagram',\n",
    "    2:'discord',\n",
    "    3:'snapchat'\n",
    "}\n",
    "def zbini_attrs(type_id):\n",
    "    if type_id < 0 or type_id > 255:\n",
    "        return None\n",
    "    hair = hairs[type_id // 64]\n",
    "    color = colors[(type_id % 64) // 16]\n",
    "    accessory = accessories[(type_id % 16) // 4]\n",
    "    social = socials[type_id % 4]\n",
    "    return hair, color, accessory, social\n",
    "\n",
    "print(zbini_attrs(0))\n",
    "print(zbini_attrs(108))\n",
    "print(zbini_attrs(148))\n",
    "print(zbini_attrs(248))\n",
    "# print(zbini_attrs(96))\n",
    "# print(zbini_attrs(351))"
   ],
   "outputs": [
    {
     "name": "stdout",
     "output_type": "stream",
     "text": [
      "('wavy', 'red', 'sneakers', 'tiktok')\n",
      "('curly', 'yellow', 'scarf', 'tiktok')\n",
      "('beanie', 'blue', 'bowtie', 'tiktok')\n",
      "('cap', 'green', 'sunglasses', 'tiktok')\n",
      "('curly', 'yellow', 'sneakers', 'tiktok')\n",
      "None\n"
     ]
    }
   ],
   "execution_count": 6
  },
  {
   "metadata": {
    "ExecuteTime": {
     "end_time": "2024-05-05T09:33:17.917652Z",
     "start_time": "2024-05-05T09:33:17.910798Z"
    }
   },
   "cell_type": "code",
   "source": [
    "# Checking Group Validity\n",
    "def valid_study_group(zbinis, group):\n",
    "    if len(group) < 3 or len(group) > 4:\n",
    "        return False, None\n",
    "    test_group = [zbinis[i] for i in group]\n",
    "    index_members = [(i[0]) for i in test_group]\n",
    "    attrs = [zbini_attrs(i) for i in index_members]\n",
    "    if len(attrs) != len(set(attrs)):\n",
    "        return False, None\n",
    "    intersection = set(test_group[0][1])\n",
    "    for i in test_group[1:]:\n",
    "        intersection = intersection.intersection(set(i[1]))\n",
    "    if len(intersection) == 0:\n",
    "        return False, None\n",
    "    return True, len(intersection)\n",
    "    \n",
    "example_zbinis = [(0, ['FoC', 'Calc 1', 'Logic']), (108, ['FoA', 'Calc 2', 'Logic']), (148, ['FoC', 'Calc 1', 'Logic']), (248, ['FoC', 'Calc 1', 'Logic']), (0, ['Calc 2', 'History', 'Politics']), (108, ['FoC', 'Calc 1', 'Logic'])]\n",
    "print(valid_study_group(example_zbinis, (0, 1, 3)))\n",
    "# (True, 1)\n",
    "print(valid_study_group(example_zbinis, (0, 1, 5)))\n",
    "# (False, None)\n",
    "print(valid_study_group(example_zbinis, (0, 1, 2, 3)))\n",
    "# (True, 1)\n",
    "print(valid_study_group(example_zbinis, (1, 2, 3, 4)))\n",
    "# (False, None)"
   ],
   "id": "861a977f132fbd6",
   "outputs": [
    {
     "name": "stdout",
     "output_type": "stream",
     "text": [
      "(True, 1)\n",
      "(False, None)\n",
      "(True, 1)\n",
      "(False, None)\n",
      "(False, None)\n",
      "(False, None)\n"
     ]
    }
   ],
   "execution_count": 27
  },
  {
   "metadata": {
    "ExecuteTime": {
     "end_time": "2024-05-05T10:34:20.217425Z",
     "start_time": "2024-05-05T10:34:20.209793Z"
    }
   },
   "cell_type": "code",
   "source": [
    "# Possible Study Groups\n",
    "import itertools\n",
    "def possible_study_groups(zbinis):\n",
    "    possible_groups = []\n",
    "    possible_index = [i for i in range(len(zbinis))]\n",
    "    possible_groups_three = list(itertools.combinations(possible_index, 3))\n",
    "    possible_groups_four = list(itertools.combinations(possible_index, 4))\n",
    "    for i in possible_groups_four:\n",
    "        score = 0\n",
    "        tf, num = valid_study_group(zbinis, i)\n",
    "        if tf:\n",
    "            score += num * 3 + 2\n",
    "            possible_groups.append((i, score))\n",
    "    for i in possible_groups_three:\n",
    "        score = 0\n",
    "        tf, num = valid_study_group(zbinis, i)\n",
    "        if tf:\n",
    "            score += num * 3 + 1\n",
    "            possible_groups.append((i, score))\n",
    "    return possible_groups\n",
    "print(possible_study_groups([(198, ['FoC']), (138, ['FoC', 'Calc 1']), (14, ['FoC', 'Calc 1']), (66, ['Calc 1'])]))\n",
    "# [((0, 1, 2), 4), ((1, 2, 3), 4)]\n",
    "print(possible_study_groups([(198, ['FoC']), (138, ['FoC', 'Calc 1']), (14, ['FoC']), (66, ['FoC'])]))\n",
    "# [((0, 1, 2, 3), 5), ((0, 1, 2), 4), ((0, 1, 3), 4), ((0, 2, 3), 4), ((1, 2, 3), 4)]\n",
    "print(possible_study_groups([(198, ['FoC']), (138, ['Calc 1']), (14, ['Calc 1']), (66, ['FoC'])]))\n",
    "# []"
   ],
   "id": "cc671d69b24bf39c",
   "outputs": [
    {
     "name": "stdout",
     "output_type": "stream",
     "text": [
      "[((0, 1, 2), 4), ((1, 2, 3), 4)]\n",
      "[((0, 1, 2, 3), 5), ((0, 1, 2), 4), ((0, 1, 3), 4), ((0, 2, 3), 4), ((1, 2, 3), 4)]\n",
      "[]\n"
     ]
    }
   ],
   "execution_count": 30
  },
  {
   "metadata": {
    "ExecuteTime": {
     "end_time": "2024-05-05T10:39:49.396860Z",
     "start_time": "2024-05-05T10:39:49.375957Z"
    }
   },
   "cell_type": "code",
   "source": [
    "def alloc_study_groups(zbinis):\n",
    "    possible_groups = possible_study_groups(zbinis)\n",
    "    possible_groups.sort(key=lambda x: x[1], reverse=True)\n",
    "    groups = []\n",
    "    for i in possible_groups:\n",
    "        group = i[0]\n",
    "        if len(group) == 3:\n",
    "            groups.append(group)\n",
    "        else:\n",
    "            if len(groups) == 0:\n",
    "                groups.append(group)\n",
    "            else:\n",
    "                for j in groups:\n",
    "                    if len(set(group).intersection(set(j))) == 0:\n",
    "                        groups.append(group)\n",
    "                        break\n",
    "    return groups\n",
    "print(alloc_study_groups([(198, ['FoC']), (198, ['FoC']), (138, ['FoC']), (14, ['FoC'])]))\n",
    "# [(0, 2, 3)]\n",
    "print(alloc_study_groups([(198, ['FoC']), (138, ['FoC', 'Calc 1']), (14, ['FoC', 'Calc 1']), (66, ['FoC', 'Calc 1'])]))\n",
    "# [(0, 1, 2, 3)]\n",
    "print(alloc_study_groups([(198, ['FoC', 'Logic']), (138, ['Calc 1']), (14, ['Calc 1']), (66, ['FoC', 'Logic']), (10, ['FoC', 'Logic']), (142, ['FoC', 'Logic']), (66, ['Calc 1'])]))\n",
    "# [(0, 3, 4, 5), (1, 2, 6)]"
   ],
   "id": "2347582db2249d6c",
   "outputs": [
    {
     "name": "stdout",
     "output_type": "stream",
     "text": [
      "[(0, 2, 3), (1, 2, 3)]\n",
      "[(1, 2, 3), (0, 1, 2), (0, 1, 3), (0, 2, 3)]\n",
      "[(0, 3, 4, 5), (0, 3, 4), (0, 3, 5), (0, 4, 5), (3, 4, 5), (1, 2, 6)]\n"
     ]
    }
   ],
   "execution_count": 31
  },
  {
   "metadata": {},
   "cell_type": "code",
   "outputs": [],
   "execution_count": null,
   "source": "",
   "id": "82f41bb86b798d26"
  }
 ],
 "metadata": {
  "kernelspec": {
   "display_name": "Python 3",
   "language": "python",
   "name": "python3"
  },
  "language_info": {
   "codemirror_mode": {
    "name": "ipython",
    "version": 2
   },
   "file_extension": ".py",
   "mimetype": "text/x-python",
   "name": "python",
   "nbconvert_exporter": "python",
   "pygments_lexer": "ipython2",
   "version": "2.7.6"
  }
 },
 "nbformat": 4,
 "nbformat_minor": 5
}
