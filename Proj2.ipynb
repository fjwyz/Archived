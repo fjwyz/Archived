{
 "cells": [
  {
   "cell_type": "code",
   "id": "initial_id",
   "metadata": {
    "collapsed": true,
    "ExecuteTime": {
     "end_time": "2024-05-07T05:36:15.432856Z",
     "start_time": "2024-05-07T05:36:15.405559Z"
    }
   },
   "source": [
    "# Decoding Attributes\n",
    "# setting up dictionaries for each attribute\n",
    "hairs = {\n",
    "    0: 'wavy',\n",
    "    1: 'curly',\n",
    "    2: 'beanie',\n",
    "    3: 'cap'\n",
    "}\n",
    "colors = {\n",
    "    0: 'red',\n",
    "    1: 'blue',\n",
    "    2: 'yellow',\n",
    "    3: 'green'\n",
    "}\n",
    "accessories = {\n",
    "    0: 'sneakers',\n",
    "    1: 'bowtie',\n",
    "    2: 'sunglasses',\n",
    "    3: 'scarf'\n",
    "}\n",
    "socials = {\n",
    "    0: 'tiktok',\n",
    "    1: 'instagram',\n",
    "    2: 'discord',\n",
    "    3: 'snapchat'\n",
    "}\n",
    "\n",
    "\n",
    "# function to decode the attributes\n",
    "def zbini_attrs(type_id):\n",
    "    # checking if the type_id is valid\n",
    "    if type_id < 0 or type_id > 255:\n",
    "        return None\n",
    "    # decoding the attributes\n",
    "    # hair_id is the result of type_id // 64\n",
    "    hair = hairs[type_id // 64]\n",
    "    # color_id is the result of (type_id % 64) // 16\n",
    "    color = colors[(type_id % 64) // 16]\n",
    "    # accessory_id is the result of (type_id % 16) // 4\n",
    "    accessory = accessories[(type_id % 16) // 4]\n",
    "    # social_id is the result of type_id % 4\n",
    "    social = socials[type_id % 4]\n",
    "    return hair, color, accessory, social\n",
    "\n",
    "print(zbini_attrs(0))\n",
    "print(zbini_attrs(108))\n",
    "print(zbini_attrs(148))\n",
    "print(zbini_attrs(248))\n",
    "# print(zbini_attrs(96))\n",
    "# print(zbini_attrs(351))"
   ],
   "outputs": [
    {
     "name": "stdout",
     "output_type": "stream",
     "text": [
      "('wavy', 'red', 'sneakers', 'tiktok')\n",
      "('curly', 'yellow', 'scarf', 'tiktok')\n",
      "('beanie', 'blue', 'bowtie', 'tiktok')\n",
      "('cap', 'green', 'sunglasses', 'tiktok')\n"
     ]
    }
   ],
   "execution_count": 1
  },
  {
   "metadata": {
    "ExecuteTime": {
     "end_time": "2024-05-07T05:36:17.970285Z",
     "start_time": "2024-05-07T05:36:17.953706Z"
    }
   },
   "cell_type": "code",
   "source": [
    "# Checking Group Validity\n",
    "def valid_study_group(zbinis, group):\n",
    "    # checking if the length of group is valid\n",
    "    if len(group) < 3 or len(group) > 4:\n",
    "        return False, None\n",
    "    # get all zbini form the group and zbinis\n",
    "    zbini = [zbinis[i] for i in group]\n",
    "    # get the index from zbini\n",
    "    index_members = [(i[0]) for i in zbini]\n",
    "    # get the attributes from the index members\n",
    "    attrs = [zbini_attrs(i) for i in index_members]\n",
    "    # checking if the attributes are unique\n",
    "    if len(attrs) != len(set(attrs)):\n",
    "        return False, None\n",
    "    # put the first set of attributes in the intersection\n",
    "    intersection = set(zbini[0][1])\n",
    "    # do for loop in the rest of the zbini\n",
    "    for i in zbini[1:]:\n",
    "        # obtain the intersection of the attributes\n",
    "        intersection = intersection.intersection(set(i[1]))\n",
    "    # checking if the intersection is empty\n",
    "    if len(intersection) == 0:\n",
    "        return False, None\n",
    "    return True, len(intersection)\n",
    "    \n",
    "example_zbinis = [(0, ['FoC', 'Calc 1', 'Logic']), (108, ['FoA', 'Calc 2', 'Logic']), (148, ['FoC', 'Calc 1', 'Logic']), (248, ['FoC', 'Calc 1', 'Logic']), (0, ['Calc 2', 'History', 'Politics']), (108, ['FoC', 'Calc 1', 'Logic'])]\n",
    "print(valid_study_group(example_zbinis, (0, 1, 3)))\n",
    "# (True, 1)\n",
    "print(valid_study_group(example_zbinis, (0, 1, 5)))\n",
    "# (False, None)\n",
    "print(valid_study_group(example_zbinis, (0, 1, 2, 3)))\n",
    "# (True, 1)\n",
    "print(valid_study_group(example_zbinis, (1, 2, 3, 4)))\n",
    "# (False, None)"
   ],
   "id": "861a977f132fbd6",
   "outputs": [
    {
     "name": "stdout",
     "output_type": "stream",
     "text": [
      "(True, 1)\n",
      "(False, None)\n",
      "(True, 1)\n",
      "(False, None)\n"
     ]
    }
   ],
   "execution_count": 2
  },
  {
   "metadata": {
    "ExecuteTime": {
     "end_time": "2024-05-07T05:52:07.854801Z",
     "start_time": "2024-05-07T05:52:07.842252Z"
    }
   },
   "cell_type": "code",
   "source": [
    "# Possible Study Groups\n",
    "from itertools import combinations\n",
    "\n",
    "\n",
    "def possible_study_groups(zbinis):\n",
    "    # create a list for storing valid groups\n",
    "    groups = []\n",
    "    # generate indexes from the length of zbinis\n",
    "    possible_index = [i for i in range(len(zbinis))]\n",
    "    # generate all possible groups of three members\n",
    "    possible_groups_three = list(combinations(possible_index, 3))\n",
    "    # generate all possible groups of four members\n",
    "    possible_groups_four = list(combinations(possible_index, 4))\n",
    "    # combine the possible groups\n",
    "    possible_groups = possible_groups_four + possible_groups_three\n",
    "    for i in possible_groups:\n",
    "        # check if the group is valid using the valid_study_group function\n",
    "        tf, num = valid_study_group(zbinis, i)\n",
    "        if tf:\n",
    "            # calculate the score\n",
    "            score = num * 3 + 1 if len(i) == 3 else num * 3 + 2\n",
    "            # append the group and score to the groups list\n",
    "            groups.append((i, score))\n",
    "    return groups\n",
    "\n",
    "print(possible_study_groups([(198, ['FoC']), (138, ['FoC', 'Calc 1']), (14, ['FoC', 'Calc 1']), (66, ['Calc 1'])]))\n",
    "# [((0, 1, 2), 4), ((1, 2, 3), 4)]\n",
    "print(possible_study_groups([(198, ['FoC']), (138, ['FoC', 'Calc 1']), (14, ['FoC']), (66, ['FoC'])]))\n",
    "# [((0, 1, 2, 3), 5), ((0, 1, 2), 4), ((0, 1, 3), 4), ((0, 2, 3), 4), ((1, 2, 3), 4)]\n",
    "print(possible_study_groups([(198, ['FoC']), (138, ['Calc 1']), (14, ['Calc 1']), (66, ['FoC'])]))\n",
    "# []"
   ],
   "id": "cc671d69b24bf39c",
   "outputs": [
    {
     "name": "stdout",
     "output_type": "stream",
     "text": [
      "[((0, 1, 2), 4), ((1, 2, 3), 4)]\n",
      "[((0, 1, 2, 3), 5), ((0, 1, 2), 4), ((0, 1, 3), 4), ((0, 2, 3), 4), ((1, 2, 3), 4)]\n",
      "[]\n"
     ]
    }
   ],
   "execution_count": 9
  },
  {
   "metadata": {
    "ExecuteTime": {
     "end_time": "2024-05-07T05:48:28.643623Z",
     "start_time": "2024-05-07T05:48:28.631098Z"
    }
   },
   "cell_type": "code",
   "source": [
    "# Allocating Study Groups\n",
    "def alloc_study_groups(zbinis):\n",
    "    # create a list for storing valid groups\n",
    "    groups = []\n",
    "    # get the possible groups using the possible_study_groups function\n",
    "    possible_groups = possible_study_groups(zbinis)\n",
    "    # set origin union set from possible_groups named unions\n",
    "    unions = set(possible_groups[0][0])\n",
    "    # the first group is always valid\n",
    "    groups.append(possible_groups[0][0])\n",
    "    # iterate through the rest of the possible groups\n",
    "    for i, j in possible_groups[1:]:\n",
    "        # check if the intersection of the group and the union is empty\n",
    "        if len(set(unions).intersection(set(i))) == 0:\n",
    "            groups.append(i)\n",
    "            # update unions set\n",
    "            unions = unions.union(set(i))\n",
    "    return groups\n",
    "\n",
    "print(alloc_study_groups([(198, ['FoC']), (198, ['FoC']), (138, ['FoC']), (14, ['FoC'])]))\n",
    "# [(0, 2, 3)]\n",
    "print(alloc_study_groups([(198, ['FoC']), (138, ['FoC', 'Calc 1']), (14, ['FoC', 'Calc 1']), (66, ['FoC', 'Calc 1'])]))\n",
    "# [(0, 1, 2, 3)]\n",
    "print(alloc_study_groups([(198, ['FoC', 'Logic']), (138, ['Calc 1']), (14, ['Calc 1']), (66, ['FoC', 'Logic']), (10, ['FoC', 'Logic']), (142, ['FoC', 'Logic']), (66, ['Calc 1'])]))\n",
    "# [(0, 3, 4, 5), (1, 2, 6)]"
   ],
   "id": "2347582db2249d6c",
   "outputs": [
    {
     "name": "stdout",
     "output_type": "stream",
     "text": [
      "[(0, 2, 3)]\n",
      "[(0, 1, 2, 3)]\n",
      "[(0, 3, 4, 5), (1, 2, 6)]\n"
     ]
    }
   ],
   "execution_count": 6
  },
  {
   "metadata": {},
   "cell_type": "code",
   "outputs": [],
   "execution_count": null,
   "source": "",
   "id": "82f41bb86b798d26"
  }
 ],
 "metadata": {
  "kernelspec": {
   "display_name": "Python 3",
   "language": "python",
   "name": "python3"
  },
  "language_info": {
   "codemirror_mode": {
    "name": "ipython",
    "version": 2
   },
   "file_extension": ".py",
   "mimetype": "text/x-python",
   "name": "python",
   "nbconvert_exporter": "python",
   "pygments_lexer": "ipython2",
   "version": "2.7.6"
  }
 },
 "nbformat": 4,
 "nbformat_minor": 5
}
