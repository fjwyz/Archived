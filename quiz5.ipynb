{
 "cells": [
  {
   "cell_type": "code",
   "id": "initial_id",
   "metadata": {
    "collapsed": true,
    "ExecuteTime": {
     "end_time": "2024-05-13T02:53:51.019796Z",
     "start_time": "2024-05-13T02:53:46.823392Z"
    }
   },
   "source": [
    "from PIL import Image\n",
    "\n",
    "def get_image_info(image_file):\n",
    "    image = Image.open(image_file)\n",
    "    width, height = image.size\n",
    "    mode = image.mode\n",
    "    print(f\"\\nSummary of : {image_file}\")\n",
    "    print(f\"Mode: {mode}\")\n",
    "    print(f\"Width: {width}\")\n",
    "    print(f\"Height: {height}\")\n",
    "    \n",
    "\n",
    "file_name = input('Enter a filename: ')\n",
    "get_image_info(file_name)\n"
   ],
   "outputs": [
    {
     "name": "stdout",
     "output_type": "stream",
     "text": [
      "Mode: RGBA\n",
      "Width: 2880\n",
      "Height: 1800\n"
     ]
    }
   ],
   "execution_count": 11
  },
  {
   "metadata": {
    "ExecuteTime": {
     "end_time": "2024-05-13T03:28:35.594475Z",
     "start_time": "2024-05-13T03:28:35.575247Z"
    }
   },
   "cell_type": "code",
   "source": [
    "from PIL import Image\n",
    "import numpy as np\n",
    "\n",
    "black_white = [[0, 0, 0, 0, 0, 0, 0, 0, 0],\n",
    "               [0, 0, 0, 1, 0, 1, 0, 0, 0],\n",
    "               [0, 0, 0, 1, 0, 1, 0, 0, 0],\n",
    "               [0, 0, 0, 0, 0, 0, 0, 0, 0],\n",
    "               [0, 0, 1, 0, 0, 0, 1, 0, 0],\n",
    "               [0, 0, 0, 1, 1, 1, 0, 0, 0],\n",
    "               [0, 0, 0, 0, 0, 0, 0, 0, 0]]\n",
    "arr = (np.array(black_white) * 255)\n",
    "im = Image.fromarray(arr)\n",
    "im = im.convert('RGB')\n",
    "im.save('smile.png')\n"
   ],
   "id": "9c7dff6a1b9697a3",
   "outputs": [],
   "execution_count": 18
  },
  {
   "metadata": {},
   "cell_type": "code",
   "outputs": [],
   "execution_count": null,
   "source": "",
   "id": "1c1eedf40fba5b2f"
  }
 ],
 "metadata": {
  "kernelspec": {
   "display_name": "Python 3",
   "language": "python",
   "name": "python3"
  },
  "language_info": {
   "codemirror_mode": {
    "name": "ipython",
    "version": 2
   },
   "file_extension": ".py",
   "mimetype": "text/x-python",
   "name": "python",
   "nbconvert_exporter": "python",
   "pygments_lexer": "ipython2",
   "version": "2.7.6"
  }
 },
 "nbformat": 4,
 "nbformat_minor": 5
}
