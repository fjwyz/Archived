{
 "cells": [
  {
   "cell_type": "code",
   "source": [
    "str1 = input(\"Enter your name, soldier: \")\n",
    "if str1 == '':\n",
    "    print(\"A luddite! GO AWAY AT ONCE!\")\n",
    "elif str1.isdigit() and 0 <= int(str1) <= 2:\n",
    "    print(\"HAHA! You may not pass!!\")\n",
    "else:\n",
    "    print(\"Welcome to the camp, \" + str1 + \", if that really is your name.\")"
   ],
   "metadata": {
    "collapsed": false
   },
   "id": "8a3523f31665eed1",
   "outputs": [],
   "execution_count": null
  },
  {
   "cell_type": "code",
   "source": [
    "month = eval(input(\"Enter the month (1-12): \"))\n",
    "if month in [1,2,12]:\n",
    "    print(\"It's summer. Have fun in the sun!\")\n",
    "elif month in [3,4,5]:\n",
    "    print(\"It's autumn. Enjoy the beautiful sunsets!\")\n",
    "elif month in [6,7,8]:\n",
    "    print(\"It's winter. Go skiing!\")\n",
    "elif month in [9,10,11]:\n",
    "    print(\"It's spring. Check out the spring racing carnival!\")\n",
    "else:\n",
    "    print(\"Invalid input. Please enter any number between 1 and 12.\")"
   ],
   "metadata": {
    "collapsed": false
   },
   "id": "d4cd2f5d054ecc3d",
   "outputs": [],
   "execution_count": null
  },
  {
   "cell_type": "code",
   "source": [
    "name = input('What is your name? ')\n",
    "name = name[-1::-1]\n",
    "print(\"Well hello there, \" + name)"
   ],
   "metadata": {
    "collapsed": false
   },
   "id": "1c6dcaa4079a0a73",
   "outputs": [],
   "execution_count": null
  },
  {
   "cell_type": "code",
   "source": [
    "phrase = input(\"Enter a phrase: \") or ''\n",
    "if phrase and phrase.lower()[0] in ['a','e','i','o','u']:\n",
    "    print(\"an \" + phrase)\n",
    "else:\n",
    "    print(\"a \" + phrase)"
   ],
   "metadata": {
    "collapsed": false
   },
   "id": "a950210590dac493",
   "outputs": [],
   "execution_count": null
  },
  {
   "metadata": {},
   "cell_type": "markdown",
   "source": [
    "a. cosh(x)\n",
    "\n",
    "b. sech(x)\n",
    "\n",
    "c. coth(x)\n",
    "\n",
    "d. arcsinh(x)\n",
    "\n",
    "e. sech(x)\n",
    "\n",
    "\n",
    "\n",
    "a) $r=1, \\theta=-\\frac{2\\pi}{3}$\n",
    "\n",
    "b) $r=\\sqrt2, \\theta=-\\frac{7\\pi}{12}$\n",
    "\n",
    "c) $r=\\frac{4}{5e^2}, \\theta=(\\frac{\\pi}{2}-1)$\n",
    "\n",
    "\n",
    "\n",
    "# problem3 \n",
    "\n",
    "$\\frac{1}{52}xsin(52x)+\\frac{1}{52^2}cos(52x)+C$\n",
    "\n",
    "\n",
    "\n",
    "# problem 4\n",
    "\n",
    "$x = tant(t)$, $27sec^3(t)$\n",
    "\n",
    "\n",
    "\n",
    "# problem 5\n",
    "\n",
    "$ln(9+tanhx)$"
   ],
   "id": "1189f53c7ed0d317"
  },
  {
   "cell_type": "code",
   "source": [
    "def cycle(input_list):\n",
    "    first = input_list[0]\n",
    "    for i in range(len(input_list)-1):\n",
    "        input_list[i] = input_list[i+1]\n",
    "    input_list[-1] = first\n",
    "x = [1,2,3,4]\n",
    "cycle(x)\n",
    "x"
   ],
   "metadata": {
    "collapsed": false
   },
   "id": "2681f9155c7a807b",
   "outputs": [],
   "execution_count": null
  },
  {
   "cell_type": "code",
   "source": [
    "def wordlist(sent):\n",
    "    l = sent.split(' ')\n",
    "    result = []\n",
    "    for i in l:\n",
    "        if i.isalnum():\n",
    "            result.append(i)\n",
    "        else:\n",
    "            break\n",
    "    return result\n",
    "print(wordlist('How much wood could a ** chuck'))\n",
    "print(wordlist('- as much wood as a woodchuck could chuck!'))\n",
    "print(wordlist('I h8 being l8 m8!'))"
   ],
   "metadata": {
    "collapsed": false
   },
   "id": "5045a3e443407e55",
   "outputs": [],
   "execution_count": null
  },
  {
   "metadata": {},
   "cell_type": "code",
   "source": [
    "def sorted_words(wordlist):\n",
    "    sorted_list = [word for word in wordlist if list(word) == sorted(word)]\n",
    "    return sorted(sorted_list)\n",
    "\n",
    "test_cases = [\"bet\", \"abacus\", \"act\", \"celebration\", \"door\"]\n",
    "\n",
    "results = sorted_words(test_cases)\n",
    "results"
   ],
   "id": "2c5f79d7dc1d3355",
   "outputs": [],
   "execution_count": null
  },
  {
   "cell_type": "code",
   "source": [
    "def middle_words(word_list):\n",
    "    length = len(word_list)\n",
    "    if length % 2 == 0:\n",
    "        return word_list[length//2-1:length//2+1]\n",
    "    else:\n",
    "        return [word_list[length//2]]\n",
    "middle_words(['a','b','c','e','f','g'])"
   ],
   "metadata": {
    "collapsed": false
   },
   "id": "bcf8230c7817210d",
   "outputs": [],
   "execution_count": null
  },
  {
   "cell_type": "code",
   "source": [
    "def long_high_word(wordlist):\n",
    "    longest_word = ''\n",
    "    for word in wordlist:\n",
    "        if len(word) > len(longest_word):\n",
    "            longest_word = word\n",
    "        if len(word) == len(longest_word):\n",
    "            if word.encode('utf-8') > longest_word.encode('utf-8'):\n",
    "                longest_word = word\n",
    "    return longest_word\n",
    "\n",
    "print(long_high_word(['a', 'cat', 'sat']))\n",
    "print(long_high_word(['satsasaad','dada','ww']))\n",
    "print(long_high_word(['g', 'a','b','c','d','e','f']))\n",
    "print(long_high_word(['a']))"
   ],
   "metadata": {
    "collapsed": false
   },
   "id": "de07c9eb9b8c0afa",
   "outputs": [],
   "execution_count": null
  }
 ],
 "metadata": {
  "kernelspec": {
   "display_name": "Python 3",
   "language": "python",
   "name": "python3"
  },
  "language_info": {
   "codemirror_mode": {
    "name": "ipython",
    "version": 2
   },
   "file_extension": ".py",
   "mimetype": "text/x-python",
   "name": "python",
   "nbconvert_exporter": "python",
   "pygments_lexer": "ipython2",
   "version": "2.7.6"
  }
 },
 "nbformat": 4,
 "nbformat_minor": 5
}
